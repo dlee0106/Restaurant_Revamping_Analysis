{
 "cells": [
  {
   "cell_type": "markdown",
   "metadata": {},
   "source": [
    "# EDA Notebook\n",
    "the following code maps our EDA and how we decided on some visualizations"
   ]
  },
  {
   "cell_type": "code",
   "execution_count": 1,
   "metadata": {},
   "outputs": [],
   "source": [
    "import pandas as pd\n",
    "import numpy as np"
   ]
  },
  {
   "cell_type": "code",
   "execution_count": 2,
   "metadata": {},
   "outputs": [],
   "source": [
    "restaurant = pd.read_csv('../Data/Restaurant.csv')"
   ]
  },
  {
   "cell_type": "code",
   "execution_count": 3,
   "metadata": {},
   "outputs": [
    {
     "data": {
      "text/html": [
       "<div>\n",
       "<style scoped>\n",
       "    .dataframe tbody tr th:only-of-type {\n",
       "        vertical-align: middle;\n",
       "    }\n",
       "\n",
       "    .dataframe tbody tr th {\n",
       "        vertical-align: top;\n",
       "    }\n",
       "\n",
       "    .dataframe thead th {\n",
       "        text-align: right;\n",
       "    }\n",
       "</style>\n",
       "<table border=\"1\" class=\"dataframe\">\n",
       "  <thead>\n",
       "    <tr style=\"text-align: right;\">\n",
       "      <th></th>\n",
       "      <th>Business Id</th>\n",
       "      <th>Business Name</th>\n",
       "      <th>Type</th>\n",
       "      <th>Latitude</th>\n",
       "      <th>Longitude</th>\n",
       "      <th>Ratings</th>\n",
       "      <th>Review_Counts</th>\n",
       "      <th>Price</th>\n",
       "      <th>Zipcode</th>\n",
       "      <th>Delivery</th>\n",
       "    </tr>\n",
       "  </thead>\n",
       "  <tbody>\n",
       "    <tr>\n",
       "      <th>0</th>\n",
       "      <td>dh5r9-SbN8xJ76XvnayWLQ</td>\n",
       "      <td>Giano Restaurant</td>\n",
       "      <td>Italian</td>\n",
       "      <td>40.726226</td>\n",
       "      <td>-73.984057</td>\n",
       "      <td>4.5</td>\n",
       "      <td>614</td>\n",
       "      <td>$$</td>\n",
       "      <td>10009</td>\n",
       "      <td>True</td>\n",
       "    </tr>\n",
       "    <tr>\n",
       "      <th>1</th>\n",
       "      <td>Vs8kQ4R381y27AH018gLpg</td>\n",
       "      <td>Supper</td>\n",
       "      <td>Italian</td>\n",
       "      <td>40.722900</td>\n",
       "      <td>-73.985270</td>\n",
       "      <td>4.0</td>\n",
       "      <td>1315</td>\n",
       "      <td>$$</td>\n",
       "      <td>10009</td>\n",
       "      <td>True</td>\n",
       "    </tr>\n",
       "    <tr>\n",
       "      <th>2</th>\n",
       "      <td>WG639VkTjmK5dzydd1BBJA</td>\n",
       "      <td>Rubirosa</td>\n",
       "      <td>Italian</td>\n",
       "      <td>40.722766</td>\n",
       "      <td>-73.996233</td>\n",
       "      <td>4.5</td>\n",
       "      <td>2323</td>\n",
       "      <td>$$</td>\n",
       "      <td>10012</td>\n",
       "      <td>True</td>\n",
       "    </tr>\n",
       "    <tr>\n",
       "      <th>3</th>\n",
       "      <td>rp8S7scxOkVVeG7dNneMGQ</td>\n",
       "      <td>L'Artusi</td>\n",
       "      <td>Italian</td>\n",
       "      <td>40.733720</td>\n",
       "      <td>-74.005130</td>\n",
       "      <td>4.5</td>\n",
       "      <td>1880</td>\n",
       "      <td>$$$</td>\n",
       "      <td>10014</td>\n",
       "      <td>True</td>\n",
       "    </tr>\n",
       "    <tr>\n",
       "      <th>4</th>\n",
       "      <td>yZJbealagfujEkgesAl2hA</td>\n",
       "      <td>Lupa</td>\n",
       "      <td>Italian</td>\n",
       "      <td>40.727600</td>\n",
       "      <td>-74.000045</td>\n",
       "      <td>4.0</td>\n",
       "      <td>1556</td>\n",
       "      <td>$$$</td>\n",
       "      <td>10012</td>\n",
       "      <td>True</td>\n",
       "    </tr>\n",
       "  </tbody>\n",
       "</table>\n",
       "</div>"
      ],
      "text/plain": [
       "              Business Id     Business Name     Type   Latitude  Longitude  \\\n",
       "0  dh5r9-SbN8xJ76XvnayWLQ  Giano Restaurant  Italian  40.726226 -73.984057   \n",
       "1  Vs8kQ4R381y27AH018gLpg            Supper  Italian  40.722900 -73.985270   \n",
       "2  WG639VkTjmK5dzydd1BBJA          Rubirosa  Italian  40.722766 -73.996233   \n",
       "3  rp8S7scxOkVVeG7dNneMGQ          L'Artusi  Italian  40.733720 -74.005130   \n",
       "4  yZJbealagfujEkgesAl2hA              Lupa  Italian  40.727600 -74.000045   \n",
       "\n",
       "   Ratings  Review_Counts Price  Zipcode  Delivery  \n",
       "0      4.5            614    $$    10009      True  \n",
       "1      4.0           1315    $$    10009      True  \n",
       "2      4.5           2323    $$    10012      True  \n",
       "3      4.5           1880   $$$    10014      True  \n",
       "4      4.0           1556   $$$    10012      True  "
      ]
     },
     "execution_count": 3,
     "metadata": {},
     "output_type": "execute_result"
    }
   ],
   "source": [
    "restaurant.head()"
   ]
  },
  {
   "cell_type": "code",
   "execution_count": 4,
   "metadata": {},
   "outputs": [
    {
     "name": "stdout",
     "output_type": "stream",
     "text": [
      "<class 'pandas.core.frame.DataFrame'>\n",
      "RangeIndex: 1035 entries, 0 to 1034\n",
      "Data columns (total 10 columns):\n",
      " #   Column         Non-Null Count  Dtype  \n",
      "---  ------         --------------  -----  \n",
      " 0   Business Id    1035 non-null   object \n",
      " 1   Business Name  1035 non-null   object \n",
      " 2   Type           1035 non-null   object \n",
      " 3   Latitude       1035 non-null   float64\n",
      " 4   Longitude      1035 non-null   float64\n",
      " 5   Ratings        1035 non-null   float64\n",
      " 6   Review_Counts  1035 non-null   int64  \n",
      " 7   Price          1035 non-null   object \n",
      " 8   Zipcode        1035 non-null   int64  \n",
      " 9   Delivery       1035 non-null   bool   \n",
      "dtypes: bool(1), float64(3), int64(2), object(4)\n",
      "memory usage: 73.9+ KB\n"
     ]
    }
   ],
   "source": [
    "restaurant.info()"
   ]
  },
  {
   "cell_type": "code",
   "execution_count": 5,
   "metadata": {},
   "outputs": [
    {
     "data": {
      "text/html": [
       "<div>\n",
       "<style scoped>\n",
       "    .dataframe tbody tr th:only-of-type {\n",
       "        vertical-align: middle;\n",
       "    }\n",
       "\n",
       "    .dataframe tbody tr th {\n",
       "        vertical-align: top;\n",
       "    }\n",
       "\n",
       "    .dataframe thead th {\n",
       "        text-align: right;\n",
       "    }\n",
       "</style>\n",
       "<table border=\"1\" class=\"dataframe\">\n",
       "  <thead>\n",
       "    <tr style=\"text-align: right;\">\n",
       "      <th></th>\n",
       "      <th>Latitude</th>\n",
       "      <th>Longitude</th>\n",
       "      <th>Ratings</th>\n",
       "      <th>Review_Counts</th>\n",
       "      <th>Zipcode</th>\n",
       "    </tr>\n",
       "  </thead>\n",
       "  <tbody>\n",
       "    <tr>\n",
       "      <th>count</th>\n",
       "      <td>1035.000000</td>\n",
       "      <td>1035.000000</td>\n",
       "      <td>1035.000000</td>\n",
       "      <td>1035.000000</td>\n",
       "      <td>1035.000000</td>\n",
       "    </tr>\n",
       "    <tr>\n",
       "      <th>mean</th>\n",
       "      <td>40.721224</td>\n",
       "      <td>-73.987800</td>\n",
       "      <td>3.819324</td>\n",
       "      <td>278.343961</td>\n",
       "      <td>10461.581643</td>\n",
       "    </tr>\n",
       "    <tr>\n",
       "      <th>std</th>\n",
       "      <td>0.330702</td>\n",
       "      <td>0.741952</td>\n",
       "      <td>0.463580</td>\n",
       "      <td>408.902392</td>\n",
       "      <td>2311.299785</td>\n",
       "    </tr>\n",
       "    <tr>\n",
       "      <th>min</th>\n",
       "      <td>30.253537</td>\n",
       "      <td>-97.763551</td>\n",
       "      <td>2.000000</td>\n",
       "      <td>2.000000</td>\n",
       "      <td>7002.000000</td>\n",
       "    </tr>\n",
       "    <tr>\n",
       "      <th>25%</th>\n",
       "      <td>40.700332</td>\n",
       "      <td>-73.995584</td>\n",
       "      <td>3.500000</td>\n",
       "      <td>51.000000</td>\n",
       "      <td>10013.000000</td>\n",
       "    </tr>\n",
       "    <tr>\n",
       "      <th>50%</th>\n",
       "      <td>40.732097</td>\n",
       "      <td>-73.976613</td>\n",
       "      <td>4.000000</td>\n",
       "      <td>152.000000</td>\n",
       "      <td>10037.000000</td>\n",
       "    </tr>\n",
       "    <tr>\n",
       "      <th>75%</th>\n",
       "      <td>40.763032</td>\n",
       "      <td>-73.942876</td>\n",
       "      <td>4.000000</td>\n",
       "      <td>334.000000</td>\n",
       "      <td>11215.000000</td>\n",
       "    </tr>\n",
       "    <tr>\n",
       "      <th>max</th>\n",
       "      <td>40.980500</td>\n",
       "      <td>-73.651640</td>\n",
       "      <td>5.000000</td>\n",
       "      <td>5652.000000</td>\n",
       "      <td>78704.000000</td>\n",
       "    </tr>\n",
       "  </tbody>\n",
       "</table>\n",
       "</div>"
      ],
      "text/plain": [
       "          Latitude    Longitude      Ratings  Review_Counts       Zipcode\n",
       "count  1035.000000  1035.000000  1035.000000    1035.000000   1035.000000\n",
       "mean     40.721224   -73.987800     3.819324     278.343961  10461.581643\n",
       "std       0.330702     0.741952     0.463580     408.902392   2311.299785\n",
       "min      30.253537   -97.763551     2.000000       2.000000   7002.000000\n",
       "25%      40.700332   -73.995584     3.500000      51.000000  10013.000000\n",
       "50%      40.732097   -73.976613     4.000000     152.000000  10037.000000\n",
       "75%      40.763032   -73.942876     4.000000     334.000000  11215.000000\n",
       "max      40.980500   -73.651640     5.000000    5652.000000  78704.000000"
      ]
     },
     "execution_count": 5,
     "metadata": {},
     "output_type": "execute_result"
    }
   ],
   "source": [
    "restaurant.describe()"
   ]
  },
  {
   "cell_type": "code",
   "execution_count": 6,
   "metadata": {},
   "outputs": [],
   "source": [
    "#ratings by type on average"
   ]
  },
  {
   "cell_type": "code",
   "execution_count": 7,
   "metadata": {},
   "outputs": [
    {
     "data": {
      "text/plain": [
       "Type\n",
       "Chinese    3.659509\n",
       "Italian    3.962454\n",
       "Name: Ratings, dtype: float64"
      ]
     },
     "execution_count": 7,
     "metadata": {},
     "output_type": "execute_result"
    }
   ],
   "source": [
    "restaurant.groupby(\"Type\")['Ratings'].mean()"
   ]
  },
  {
   "cell_type": "code",
   "execution_count": 8,
   "metadata": {},
   "outputs": [],
   "source": [
    "#distribution of Italian restaurants by price"
   ]
  },
  {
   "cell_type": "code",
   "execution_count": 9,
   "metadata": {},
   "outputs": [
    {
     "data": {
      "text/plain": [
       "$$      68.681319\n",
       "$$$     26.739927\n",
       "$$$$     2.747253\n",
       "$        1.831502\n",
       "Name: Price, dtype: float64"
      ]
     },
     "execution_count": 9,
     "metadata": {},
     "output_type": "execute_result"
    }
   ],
   "source": [
    "restaurant[restaurant['Type'] == 'Italian']['Price'].value_counts(normalize=True)*100"
   ]
  },
  {
   "cell_type": "code",
   "execution_count": 10,
   "metadata": {},
   "outputs": [],
   "source": [
    "#small percent of high priced Chinese"
   ]
  },
  {
   "cell_type": "code",
   "execution_count": 11,
   "metadata": {},
   "outputs": [
    {
     "data": {
      "text/plain": [
       "$       69.938650\n",
       "$$      27.402863\n",
       "$$$      2.249489\n",
       "$$$$     0.408998\n",
       "Name: Price, dtype: float64"
      ]
     },
     "execution_count": 11,
     "metadata": {},
     "output_type": "execute_result"
    }
   ],
   "source": [
    "restaurant[restaurant['Type'] == 'Chinese']['Price'].value_counts(normalize=True)*100"
   ]
  },
  {
   "cell_type": "code",
   "execution_count": 12,
   "metadata": {},
   "outputs": [],
   "source": [
    "#Only a handful of Chinese restaurants don't deliver"
   ]
  },
  {
   "cell_type": "code",
   "execution_count": 13,
   "metadata": {},
   "outputs": [
    {
     "data": {
      "text/plain": [
       "True     437\n",
       "False     52\n",
       "Name: Delivery, dtype: int64"
      ]
     },
     "execution_count": 13,
     "metadata": {},
     "output_type": "execute_result"
    }
   ],
   "source": [
    "restaurant[restaurant['Type'] == 'Chinese']['Delivery'].value_counts()"
   ]
  },
  {
   "cell_type": "code",
   "execution_count": 14,
   "metadata": {},
   "outputs": [],
   "source": [
    "#Delivery is 1 and Non is 0 so we can see the delivery decreasing as ratings\n",
    "#increase for Chinese restaurants"
   ]
  },
  {
   "cell_type": "code",
   "execution_count": 15,
   "metadata": {},
   "outputs": [
    {
     "data": {
      "text/plain": [
       "Ratings\n",
       "2.0    1.000000\n",
       "2.5    0.941176\n",
       "3.0    0.960526\n",
       "3.5    0.932584\n",
       "4.0    0.870588\n",
       "4.5    0.761905\n",
       "5.0    0.200000\n",
       "Name: Delivery, dtype: float64"
      ]
     },
     "execution_count": 15,
     "metadata": {},
     "output_type": "execute_result"
    }
   ],
   "source": [
    "restaurant[restaurant['Type']=='Chinese'].groupby('Ratings')['Delivery'].mean()"
   ]
  },
  {
   "cell_type": "code",
   "execution_count": 16,
   "metadata": {},
   "outputs": [
    {
     "data": {
      "text/plain": [
       "Ratings\n",
       "3.0    0.888889\n",
       "3.5    0.949580\n",
       "4.0    0.932886\n",
       "4.5    0.935185\n",
       "5.0    1.000000\n",
       "Name: Delivery, dtype: float64"
      ]
     },
     "execution_count": 16,
     "metadata": {},
     "output_type": "execute_result"
    }
   ],
   "source": [
    "restaurant[restaurant['Type']=='Italian'].groupby('Ratings')['Delivery'].mean()"
   ]
  },
  {
   "cell_type": "code",
   "execution_count": null,
   "metadata": {},
   "outputs": [],
   "source": []
  }
 ],
 "metadata": {
  "kernelspec": {
   "display_name": "learn-env",
   "language": "python",
   "name": "learn-env"
  },
  "language_info": {
   "codemirror_mode": {
    "name": "ipython",
    "version": 3
   },
   "file_extension": ".py",
   "mimetype": "text/x-python",
   "name": "python",
   "nbconvert_exporter": "python",
   "pygments_lexer": "ipython3",
   "version": "3.8.5"
  }
 },
 "nbformat": 4,
 "nbformat_minor": 4
}
